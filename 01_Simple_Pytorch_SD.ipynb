{
 "cells": [
  {
   "cell_type": "markdown",
   "id": "754e0ccb",
   "metadata": {},
   "source": [
    "# Simple PyTorch-based Stable Diffusion\n",
    "\n",
    "This notebook demonstrates how to run Stable Diffusion using PyTorch with Intel Extensions on Intel GPUs. Stable Diffusion is a latent text-to-image diffusion model capable of generating photo-realistic images given any text input. This implementation leverages hardware acceleration available on Intel GPUs to improve performance.\n",
    "\n",
    "In this notebook, you will:\n",
    "- Configure the environment for Intel GPU acceleration\n",
    "- Install necessary dependencies\n",
    "- Load a pre-trained Stable Diffusion model\n",
    "- Generate an image from a text prompt"
   ]
  },
  {
   "cell_type": "markdown",
   "id": "2496ff39-ce84-4100-852f-6fdeddaed2fc",
   "metadata": {},
   "source": [
    "## Setup PyTorch to use Intel Extensions & Confirm GPU\n",
    "\n",
    "This section configures PyTorch to work efficiently with Intel GPUs through Intel Extensions for PyTorch (IPEX). IPEX optimizes PyTorch operations to take advantage of Intel hardware features, significantly accelerating deep learning workloads including Stable Diffusion inference.\n",
    "\n",
    "We'll start by setting up the Python environment and ensuring access to user-installed packages. Then we'll verify that the Intel GPU is properly detected and available for computation."
   ]
  },
  {
   "cell_type": "code",
   "execution_count": null,
   "id": "57cbf0c7-cec6-4069-9d1b-344dad6d94e8",
   "metadata": {},
   "outputs": [],
   "source": [
    "import os\n",
    "import sys\n",
    "\n",
    "username = os.environ.get('USER')\n",
    "user_bin_path = os.path.expanduser(f\"/home/{username}/.local/bin\")\n",
    "sys.path.append(user_bin_path)\n",
    "print(sys.path)"
   ]
  },
  {
   "cell_type": "markdown",
   "id": "d82785ee-2477-449a-b47a-699754d6fb7a",
   "metadata": {},
   "source": [
    "### Install Required Dependencies\n",
    "\n",
    "The following packages are essential for running Stable Diffusion:\n",
    "\n",
    "- **diffusers**: Hugging Face's library that provides implementations for state-of-the-art diffusion models\n",
    "- **accelerate**: Library for easy PyTorch distributed training and mixed precision\n",
    "- **transformers**: Provides pre-trained models for natural language understanding and generation\n",
    "- **tqdm**: Adds progress bars for long-running operations\n",
    "\n",
    "This cell installs or updates these packages to their latest compatible versions."
   ]
  },
  {
   "cell_type": "code",
   "execution_count": null,
   "id": "b489ddae-6d15-4fba-983a-c9e7e40141ba",
   "metadata": {},
   "outputs": [],
   "source": [
    "!{sys.executable} -m pip install --upgrade diffusers accelerate transformers tqdm"
   ]
  },
  {
   "cell_type": "markdown",
   "id": "8c87f8fc",
   "metadata": {},
   "source": [
    "### Understanding Intel XPU Architecture\n",
    "\n",
    "The Intel XPU architecture refers to Intel's unified programming model that works across different Intel hardware accelerators, including:\n",
    "\n",
    "- Intel GPUs (like the Intel Arc series)\n",
    "- Intel Data Center GPUs (like the Intel Max 1100 series)\n",
    "- Intel CPUs with integrated graphics\n",
    "\n",
    "XPU provides several advantages for deep learning workloads:\n",
    "\n",
    "1. **Performance Optimization**: Hardware-specific optimizations for neural network operations\n",
    "2. **Memory Management**: Efficient memory usage for large models like Stable Diffusion\n",
    "3. **Mixed Precision**: Support for lower precision formats (FP16, BF16) which accelerate computation\n",
    "4. **Graph Optimization**: Runtime optimizations to eliminate redundant operations\n",
    "\n",
    "In this notebook, we use `pipe.to(\"xpu\")` to move our model to the Intel GPU, leveraging these acceleration capabilities."
   ]
  },
  {
   "cell_type": "code",
   "execution_count": null,
   "id": "cfff05d3-9f84-4002-b8f0-f0b2fb0f2712",
   "metadata": {},
   "outputs": [],
   "source": [
    "import torch\n",
    "import intel_extension_for_pytorch as ipex\n",
    "print(ipex.xpu.get_device_name(0))"
   ]
  },
  {
   "cell_type": "markdown",
   "id": "303f149e-971f-436a-9f80-bf9826708911",
   "metadata": {},
   "source": [
    "## Setup the Stable Diffusion Pipeline\n",
    "\n",
    "Now we'll load and configure the Stable Diffusion model pipeline. This is a machine learning system that converts text descriptions into high-quality images.\n",
    "\n",
    "The pipeline consists of several neural networks working together:\n",
    "1. A text encoder that converts the input prompt into an embedding\n",
    "2. A U-Net that gradually denoises random noise guided by the text embedding\n",
    "3. A VAE decoder that converts the denoised latent representation into an RGB image\n",
    "\n",
    "We're using the widely-adopted Stable Diffusion v1.5 model from Runway ML, loading a version optimized for lower precision (FP16) to improve performance on the Intel GPU. After loading, we'll move the model to the Intel XPU device and generate our first image."
   ]
  },
  {
   "cell_type": "code",
   "execution_count": null,
   "id": "8d548efc-982c-44a2-a202-de22acf130c6",
   "metadata": {},
   "outputs": [],
   "source": [
    "from diffusers import StableDiffusionPipeline\n",
    "\n",
    "# Load the Stable Diffusion model from the specified path\n",
    "pipe = StableDiffusionPipeline.from_pretrained(\"/home/common/data/Big_Data/GenAI/runwayml/stable-diffusion-v1-5\",  \n",
    "                                               revision=\"fp16\", \n",
    "                                               torch_dtype=torch.float16)\n",
    "# move the model to Intel GPU MAX 1100\n",
    "pipe = pipe.to(\"xpu\")\n",
    "\n",
    "# model is ready for submitting queries\n",
    "result = pipe(\"A cat riding a surfboard on a big wave\")\n",
    "\n",
    "# Display the generated image\n",
    "image = result.images[0]\n",
    "display(image)\n",
    "\n",
    "# Save the image if desired\n",
    "# image.save(\"cat_surfing.png\")"
   ]
  },
  {
   "cell_type": "markdown",
   "id": "5cd520c6",
   "metadata": {},
   "source": [
    "## Results and Next Steps\n",
    "\n",
    "Above, you can see the generated image of \"A cat riding a surfboard on a big wave\". The image demonstrates how Stable Diffusion can interpret a text prompt and create a corresponding visual representation.\n",
    "\n",
    "### Experiment Further\n",
    "\n",
    "Try modifying the text prompt to generate different images. Here are some ideas:\n",
    "\n",
    "- Adjust the level of detail in your prompt (e.g., \"A detailed oil painting of a cat riding a blue surfboard on a massive wave at sunset\")\n",
    "- Try different artistic styles (e.g., \"A watercolor sketch of a cat surfing\")\n",
    "- Experiment with completely different subjects and scenarios\n",
    "\n",
    "### Advanced Options\n",
    "\n",
    "For more control over the generation process, you can customize additional parameters:\n",
    "\n",
    "```python\n",
    "result = pipe(\n",
    "    prompt=\"Your detailed prompt here\",\n",
    "    negative_prompt=\"low quality, blurry\",  # What you don't want to see\n",
    "    num_inference_steps=50,               # More steps = more detail but slower\n",
    "    guidance_scale=7.5                    # How closely to follow the prompt\n",
    ")\n",
    "```\n",
    "\n",
    "These parameters let you fine-tune the generation process for better results."
   ]
  }
 ],
 "metadata": {
  "kernelspec": {
   "display_name": "PyTorch GPU",
   "language": "python",
   "name": "pytorch-gpu"
  },
  "language_info": {
   "codemirror_mode": {
    "name": "ipython",
    "version": 3
   },
   "file_extension": ".py",
   "mimetype": "text/x-python",
   "name": "python",
   "nbconvert_exporter": "python",
   "pygments_lexer": "ipython3",
   "version": "3.9.19"
  }
 },
 "nbformat": 4,
 "nbformat_minor": 5
}
